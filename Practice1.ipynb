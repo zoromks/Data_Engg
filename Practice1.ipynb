{
 "cells": [
  {
   "cell_type": "code",
   "execution_count": 0,
   "metadata": {
    "application/vnd.databricks.v1+cell": {
     "cellMetadata": {
      "byteLimit": 2048000,
      "rowLimit": 10000
     },
     "inputWidgets": {},
     "nuid": "7712bbb4-840f-4666-ac83-678e0cbf6542",
     "showTitle": false,
     "tableResultSettingsMap": {},
     "title": ""
    }
   },
   "outputs": [],
   "source": [
    "data=[(\"1\",\"eee\",\"mohan\"),(\"2\",\"ece\",\"ram\"),(\"3\",\"mec\",\"shyam\"),(\"1\",\"ece\",\"mohan\"),(\"2\",\"eee\",\"ram\"),(\"3\",\"it\",\"shyam\"),\n",
    "      (\"1\",\"csc\",\"mohan\"),(\"2\",\"civ\",\"ram\"),(\"3\",\"csc\",\"siri\")]\n",
    "dep=['dept','course','name']\n",
    "df=spark.createDataFrame(data,dep)\n",
    "df.show()"
   ]
  },
  {
   "cell_type": "code",
   "execution_count": 0,
   "metadata": {
    "application/vnd.databricks.v1+cell": {
     "cellMetadata": {
      "byteLimit": 2048000,
      "rowLimit": 10000
     },
     "inputWidgets": {},
     "nuid": "6dea7451-500d-4fbf-833e-b2f9da7ba34d",
     "showTitle": false,
     "tableResultSettingsMap": {},
     "title": ""
    }
   },
   "outputs": [],
   "source": [
    "from pyspark.sql.functions import struct,collect_list\n",
    "display(df.groupBy(df.dept).agg(collect_list(struct(df.course,df.name)).alias('name')))\n"
   ]
  }
 ],
 "metadata": {
  "application/vnd.databricks.v1+notebook": {
   "computePreferences": null,
   "dashboards": [],
   "environmentMetadata": {
    "base_environment": "",
    "environment_version": "3"
   },
   "inputWidgetPreferences": null,
   "language": "python",
   "notebookMetadata": {
    "pythonIndentUnit": 4
   },
   "notebookName": "Practice1",
   "widgets": {}
  },
  "language_info": {
   "name": "python"
  }
 },
 "nbformat": 4,
 "nbformat_minor": 0
}
